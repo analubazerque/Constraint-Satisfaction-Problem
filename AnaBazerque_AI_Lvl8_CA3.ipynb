{
 "cells": [
  {
   "cell_type": "markdown",
   "metadata": {},
   "source": [
    "# CA3: Constraint Satisfaction Problem "
   ]
  },
  {
   "cell_type": "markdown",
   "metadata": {},
   "source": [
    "# Introduction\n",
    "\n",
    "This report will detail the rationale and the process to resolve the two proposed Contraint Satistaction Problems CSP1 and CSP2. Both problems will be solved using the solving framework AnaBazerque_AI_CA3.py. The framework is an adaptation of the solution seen in class and available [here](https://freecontent.manning.com/constraint-satisfaction-problems-in-python/). "
   ]
  },
  {
   "cell_type": "markdown",
   "metadata": {},
   "source": [
    "# The Solving Framework\n",
    "\n",
    "A significant number of problems that mathematical models solve can be commonly classified as constraint-satisfaction problems (CSPs). CSPs are formed by a set of variables with possible values that fit within specific ranges defined as domains. In the next step, the constraints between the variables must be satisfied to resolve the given constraint-satisfaction problems (Constraint-Satisfaction Problems in Python - Manning, 2019).\n",
    "\n",
    "The framework starts with the necessary imports to work on the solution. The *typing* library contains the data structures we will be used to manipulate our data, and the *abc* module, which provides the infrastructure for defining abstract base classes (ABCs) in Python (abc — Abstract Base Classes — Python 3.9.1 documentation, 2021). The constraints are defined by the *Constraint* abstract class. Each constraint includes the set of the variables it constrains and its method used to check if it is satisfied or not. Evaluating whether a constraint is satisfied is the primary logic for setting a specific problem of constraint-satisfaction. The default implementation of the *Constraint* class and its *satisfied()* method should be overridden when creating the actual constraint (Constraint-Satisfaction Problems in Python - Manning, 2019).  \n",
    "\n",
    "A class called the *Solver* is the central component of our constraint-satisfaction framework. *Solver*  is a distribution center for variables, domains, and constraints. In this case, generics data structures are used to make functions adaptable enough to manipulate any kind of variables and domain values (V keys and D domain values). The collection of variables is a list of variables, domains is a dictionary mapping the variables to lists of possible values (the domains of such variables), and constraints are a dictionary that assigns each variable to a list of constraints enforces on it.\n",
    "\n",
    "The *\\__init__()* initializer method will create a constraints dictionary. The *add_constraint()* method iterates through all the variables that are affected by the constraint and add it to the constraint mapping for each of them. Both methods raise an exception when a variable is missing from a domain or a constraint on a non-existent variable. We have also a function called *isconsistent()*, which runs through every constraint for a variable x  and verify if the constraint is satisfied with the new assignment. The function returns True if the assignment satisfies any constraint, and False  If any constraint enforced on the variable is not satisfied.\n",
    "\n",
    "This constraint-satisfaction framework utilises a backtrack search to achieve the best outcome. Backtracking is the concept that once you hit a dead-end in your exploration, the algorithm should go back to the last known point where a decision was made before you got to the dead end, and choose a different path. The backtracking search performed in the mentioned *backtracking_search()* function is somewhat of a recursive depth-first search. The goal of the recursive search is to find a valid assignment for every variable. Once achieved, the program returns the first instance of a solution that was valid.\n",
    "\n",
    "To pick a variable whereby the domain can be explored, we iterate through all the variables and find the first variable that is not assigned. To do this, we will create a list of variables in *self.variables* and call it *unassigned*. Then we get the first value in *unassigned*. The function checks then if the new assignment for the dictionary *local_assignment* is consistent with all the constraints. If the new assignment is finished, we return the new assignment up the recursion chain."
   ]
  },
  {
   "cell_type": "markdown",
   "metadata": {},
   "source": [
    "## CSP1: Ireland Counties map-colouring problem \n",
    "\n",
    "The solution for the Map Coloring Problem using the map of all the counties in Ireland will use the before mentioned framework. The constraint class takes as an attribute the original class from the framework an initialize itself taking a *country* and a *color*, both strings. The satified method will contain the actual constraint, which in this case is the current country and color are yet not in the assignment. "
   ]
  },
  {
   "cell_type": "code",
   "execution_count": 24,
   "metadata": {},
   "outputs": [],
   "source": [
    "import AnaBazerque_AI_CA3\n",
    "from AnaBazerque_AI_CA3 import Constraint, Solver\n",
    "from typing import Dict, List, Optional\n",
    "import networkx as nx\n",
    "import matplotlib.pyplot as plt  \n",
    "import numpy as np"
   ]
  },
  {
   "cell_type": "code",
   "execution_count": 25,
   "metadata": {},
   "outputs": [],
   "source": [
    "class MapColoringConstraint(Constraint[str, str]):\n",
    "    def __init__(self, county: str, color: str) -> None:\n",
    "        super().__init__([county, color])\n",
    "        self.county: str = county\n",
    "        self.color: str = color\n",
    "\n",
    "    def satisfied(self, assignment: Dict[str, str]) -> bool:\n",
    "        \n",
    "        if self.county not in assignment or self.color not in assignment:\n",
    "            return True\n",
    "       \n",
    "        return assignment[self.county] != assignment[self.color]\n"
   ]
  },
  {
   "cell_type": "markdown",
   "metadata": {},
   "source": [
    "In our main, we define our variables as the list of counties, the domains as a dictionary composed of an integer and a list of integers, and a for loop that iterates through the variables and sets a color for each of them. If the country or the color is not yet in the *assignment*, return True. Then the code checks if the color in the county is the same as of its neighbor. Next, we initiate the Solver class from the framework and start adding the constraints (neighboring counties) to the problem. We then just need to call the *backtracking_search()* which will save the results into a dictionary called *solution*."
   ]
  },
  {
   "cell_type": "code",
   "execution_count": 26,
   "metadata": {},
   "outputs": [
    {
     "name": "stdout",
     "output_type": "stream",
     "text": [
      "{'Antrim': 'red', 'Armagh': 'red', 'Cavan': 'red', 'Derry': 'red', 'Donegal': 'red', 'Down': 'green', 'Fermanagh': 'red', 'Monaghan': 'red', 'Tyrone': 'green', 'Galway': 'red', 'Leitrim': 'red', 'Mayo': 'red', 'Roscommon': 'red', 'Sligo': 'green', 'Carlow': 'red', 'Dublin': 'red', 'Kildare': 'red', 'Kilkenny': 'red', 'Laois': 'red', 'Longford': 'red', 'Louth': 'red', 'Meath': 'red', 'Offaly': 'red', 'Westmeath': 'green', 'Wexford': 'green', 'Wicklow': 'green', 'Clare': 'red', 'Cork': 'red', 'Kerry': 'red', 'Limerick': 'red', 'Tipperary': 'red', 'Waterford': 'green'}\n"
     ]
    }
   ],
   "source": [
    "if __name__ == \"__main__\":\n",
    "    counties: List[str] = ['Antrim', 'Armagh', 'Cavan', 'Derry', 'Donegal', 'Down', 'Fermanagh', 'Monaghan', 'Tyrone', 'Galway', 'Leitrim', 'Mayo', 'Roscommon', 'Sligo', 'Carlow', 'Dublin', 'Kildare', 'Kilkenny', 'Laois', 'Longford', 'Louth', 'Meath', 'Offaly', 'Westmeath', 'Wexford', 'Wicklow', 'Clare', 'Cork', 'Kerry', 'Limerick', 'Tipperary', 'Waterford']\n",
    "    colors: Dict[str, List[str]] = {}\n",
    "    for county in counties:\n",
    "        colors[county] = ['red', 'green', 'blue', 'yellow', 'purple', 'brown', 'white']\n",
    "        \n",
    "    solver: Solver[str, str] = Solver(counties, colors)\n",
    "    solver.add_constraint(MapColoringConstraint(\"Antrim\", \"Down\"))\n",
    "    solver.add_constraint(MapColoringConstraint(\"Antrim\", \"Armagh\"))\n",
    "    solver.add_constraint(MapColoringConstraint(\"Antrim\", \"Derry\"))\n",
    "    solver.add_constraint(MapColoringConstraint(\"Derry\", \"Donegal\"))\n",
    "    solver.add_constraint(MapColoringConstraint(\"Derry\", \"Tyrone\"))\n",
    "    solver.add_constraint(MapColoringConstraint(\"Donegal\", \"Tyrone\"))\n",
    "    solver.add_constraint(MapColoringConstraint(\"Donegal\", \"Fermanagh\"))\n",
    "    solver.add_constraint(MapColoringConstraint(\"Donegal\", \"Leitrim\"))\n",
    "    solver.add_constraint(MapColoringConstraint(\"Tyrone\", \"Fermanagh\"))\n",
    "    solver.add_constraint(MapColoringConstraint(\"Tyrone\", \"Monaghan\"))\n",
    "    solver.add_constraint(MapColoringConstraint(\"Tyrone\", \"Armagh\"))\n",
    "    solver.add_constraint(MapColoringConstraint(\"Down\", \"Armagh\"))\n",
    "    solver.add_constraint(MapColoringConstraint(\"Armagh\", \"Monaghan\"))\n",
    "    solver.add_constraint(MapColoringConstraint(\"Armagh\", \"Louth\"))\n",
    "    solver.add_constraint(MapColoringConstraint(\"Fermanagh\", \"Leitrim\"))\n",
    "    solver.add_constraint(MapColoringConstraint(\"Fermanagh\", \"Cavan\"))\n",
    "    solver.add_constraint(MapColoringConstraint(\"Fermanagh\", \"Monaghan\"))\n",
    "    solver.add_constraint(MapColoringConstraint(\"Leitrim\", \"Sligo\"))\n",
    "    solver.add_constraint(MapColoringConstraint(\"Leitrim\", \"Cavan\"))\n",
    "    solver.add_constraint(MapColoringConstraint(\"Leitrim\", \"Longford\"))\n",
    "    solver.add_constraint(MapColoringConstraint(\"Leitrim\", \"Roscommon\"))\n",
    "    solver.add_constraint(MapColoringConstraint(\"Monaghan\", \"Cavan\"))\n",
    "    solver.add_constraint(MapColoringConstraint(\"Monaghan\", \"Louth\"))\n",
    "    solver.add_constraint(MapColoringConstraint(\"Monaghan\", \"Meath\"))\n",
    "    solver.add_constraint(MapColoringConstraint(\"Sligo\", \"Mayo\"))\n",
    "    solver.add_constraint(MapColoringConstraint(\"Sligo\", \"Roscommon\"))\n",
    "    solver.add_constraint(MapColoringConstraint(\"Cavan\", \"Longford\"))\n",
    "    solver.add_constraint(MapColoringConstraint(\"Cavan\", \"Westmeath\"))\n",
    "    solver.add_constraint(MapColoringConstraint(\"Cavan\", \"Louth\"))\n",
    "    solver.add_constraint(MapColoringConstraint(\"Cavan\", \"Meath\"))\n",
    "    solver.add_constraint(MapColoringConstraint(\"Louth\", \"Meath\"))\n",
    "    solver.add_constraint(MapColoringConstraint(\"Mayo\", \"Roscommon\"))\n",
    "    solver.add_constraint(MapColoringConstraint(\"Mayo\", \"Galway\"))\n",
    "    solver.add_constraint(MapColoringConstraint(\"Roscommon\", \"Longford\"))\n",
    "    solver.add_constraint(MapColoringConstraint(\"Roscommon\", \"Westmeath\"))\n",
    "    solver.add_constraint(MapColoringConstraint(\"Roscommon\", \"Galway\"))\n",
    "    solver.add_constraint(MapColoringConstraint(\"Roscommon\", \"Offaly\"))\n",
    "    solver.add_constraint(MapColoringConstraint(\"Longford\", \"Westmeath\"))\n",
    "    solver.add_constraint(MapColoringConstraint(\"Longford\", \"Meath\"))\n",
    "    solver.add_constraint(MapColoringConstraint(\"Meath\", \"Dublin\"))\n",
    "    solver.add_constraint(MapColoringConstraint(\"Meath\", \"Westmeath\"))\n",
    "    solver.add_constraint(MapColoringConstraint(\"Meath\", \"Kildare\"))\n",
    "    solver.add_constraint(MapColoringConstraint(\"Meath\", \"Offaly\"))\n",
    "    solver.add_constraint(MapColoringConstraint(\"Westmeath\", \"Offaly\"))\n",
    "    solver.add_constraint(MapColoringConstraint(\"Galway\", \"Clare\"))\n",
    "    solver.add_constraint(MapColoringConstraint(\"Galway\", \"Tipperary\"))\n",
    "    solver.add_constraint(MapColoringConstraint(\"Galway\", \"Offaly\"))\n",
    "    solver.add_constraint(MapColoringConstraint(\"Offaly\", \"Laois\"))\n",
    "    solver.add_constraint(MapColoringConstraint(\"Offaly\", \"Tipperary\"))\n",
    "    solver.add_constraint(MapColoringConstraint(\"Offaly\", \"Kildare\"))\n",
    "    solver.add_constraint(MapColoringConstraint(\"Kildare\", \"Dublin\"))\n",
    "    solver.add_constraint(MapColoringConstraint(\"Kildare\", \"Laois\"))\n",
    "    solver.add_constraint(MapColoringConstraint(\"Kildare\", \"Carlow\"))\n",
    "    solver.add_constraint(MapColoringConstraint(\"Kildare\", \"Wicklow\"))\n",
    "    solver.add_constraint(MapColoringConstraint(\"Dublin\", \"Wicklow\"))\n",
    "    solver.add_constraint(MapColoringConstraint(\"Clare\", \"Tipperary\"))\n",
    "    solver.add_constraint(MapColoringConstraint(\"Clare\", \"Limerick\"))\n",
    "    solver.add_constraint(MapColoringConstraint(\"Laois\", \"Tipperary\"))\n",
    "    solver.add_constraint(MapColoringConstraint(\"Laois\", \"Carlow\"))\n",
    "    solver.add_constraint(MapColoringConstraint(\"Laois\", \"Kilkenny\"))\n",
    "    solver.add_constraint(MapColoringConstraint(\"Tipperary\", \"Kilkenny\"))\n",
    "    solver.add_constraint(MapColoringConstraint(\"Tipperary\", \"Carlow\"))\n",
    "    solver.add_constraint(MapColoringConstraint(\"Tipperary\", \"Waterford\"))\n",
    "    solver.add_constraint(MapColoringConstraint(\"Tipperary\", \"Limerick\"))\n",
    "    solver.add_constraint(MapColoringConstraint(\"Kilkenny\", \"Carlow\"))\n",
    "    solver.add_constraint(MapColoringConstraint(\"Kilkenny\", \"Waterford\"))\n",
    "    solver.add_constraint(MapColoringConstraint(\"Carlow\", \"Wexford\"))\n",
    "    solver.add_constraint(MapColoringConstraint(\"Limerick\", \"Kerry\"))\n",
    "    solver.add_constraint(MapColoringConstraint(\"Limerick\", \"Cork\"))\n",
    "    solver.add_constraint(MapColoringConstraint(\"Kerry\", \"Cork\"))\n",
    "    solver.add_constraint(MapColoringConstraint(\"Cork\", \"Waterford\"))\n",
    "    \n",
    "    solution: Dict[str, str] = solver.backtracking_search()\n",
    "    if solution is None:\n",
    "        print(\"No solution found!\")\n",
    "    else:\n",
    "        print(solution)\n"
   ]
  },
  {
   "cell_type": "markdown",
   "metadata": {},
   "source": [
    "As we can see in the cell above, the code prints the solution for the map coloring problem as a dictionary of assignments (county, color) for each county in Ireland. "
   ]
  },
  {
   "cell_type": "markdown",
   "metadata": {},
   "source": [
    "# CSP2: 8x8 Matrix\n",
    "\n",
    "The matrix task was performed by using the format of the 8 Queens Problem with a Sudoku help to create the *satisfied()* method loops. The classes initialize with a list of integers called *grid*. The assignment in the satisfied method will take two integers as well and will start with an outer loop going through each position and value in the assignment. Since we are using a grid with 64 positions, we need to define a new line every eight squares in the grid. So if the position1%8 is not equal to zero, it means we are not at the end of the grid. The second for loop will check if the next position and value are in the assignment's row and also if the values containing in the two positions are the same. The third for loop will do the same check but regarding the columns."
   ]
  },
  {
   "cell_type": "code",
   "execution_count": 27,
   "metadata": {},
   "outputs": [],
   "source": [
    "class MatrixConstraint(Constraint[int, int]):\n",
    "    def __init__(self, grid: List[int]) -> None:\n",
    "        super().__init__(grid)\n",
    "        self.grid: List[int] = grid\n",
    "            \n",
    "    def satisfied(self, assignment: Dict[int, int]) -> bool:\n",
    "\n",
    "        for position1, value1 in assignment.items():\n",
    "            \n",
    "            if position1%8 != 0:\n",
    "\n",
    "                for position2 in range(position1 + 1, position1 + 1 +(8 - position1%8)):\n",
    "                    if position2 in assignment:\n",
    "                        value2: int = assignment[position2] \n",
    "                        if value1 == value2: \n",
    "                            return False\n",
    "                    \n",
    "            for position2 in range(position1 + 8, 65, 8):\n",
    "                if position2 in assignment:\n",
    "                    value2: int = assignment[position2] \n",
    "                    if value1 == value2: \n",
    "                        return False\n",
    "        return True "
   ]
  },
  {
   "cell_type": "markdown",
   "metadata": {},
   "source": [
    "Similar to the previous problem's main method, we start by creating the variables which will be used to fill in the 8x8 matrix meeting the appropriate constraints. A loop defines the first column as a sequence between one and eight and instantiates the Solver class taking two integers representing our grid and rows. The code then the matrix constraint to the problem and calls the *backtracking_search()*, saving the result into a dictionary *solution*. At last, we print the dictionary as strings of numbers forming the 8x8 matrix."
   ]
  },
  {
   "cell_type": "code",
   "execution_count": 28,
   "metadata": {},
   "outputs": [
    {
     "name": "stdout",
     "output_type": "stream",
     "text": [
      "1 2 3 4 5 6 7 8\n",
      "2 1 4 3 6 5 8 7\n",
      "3 4 1 2 7 8 5 6\n",
      "4 3 2 1 8 7 6 5\n",
      "5 6 7 8 1 2 3 4\n",
      "6 5 8 7 2 1 4 3\n",
      "7 8 5 6 3 4 1 2\n",
      "8 7 6 5 4 3 2 1\n"
     ]
    }
   ],
   "source": [
    "if __name__ == \"__main__\":\n",
    "    grid: List[int] = list(range(1, 65))\n",
    "    rows: Dict[int, List[int]] = {}\n",
    "    for column in grid:\n",
    "        rows[column] = [1, 2, 3, 4, 5, 6, 7, 8]\n",
    "    solver: Solver[int, int] = Solver(grid, rows)\n",
    "        \n",
    "    solver.add_constraint(MatrixConstraint(grid))\n",
    "    solution: Dict[int, int] = solver.backtracking_search()\n",
    "   \n",
    "    if solution is None:\n",
    "        print(\"No solution found!\")\n",
    "    else:\n",
    "        for i in solution:\n",
    "            if i%8 == 0:\n",
    "                print(str(solution[i]))\n",
    "            else:\n",
    "                print(str(solution[i])+ \" \", end =\"\")"
   ]
  },
  {
   "cell_type": "markdown",
   "metadata": {},
   "source": [
    "# Conclusion\n",
    "\n",
    "Besides not being able to build all the code from scratch, just by adapting it to a similar problem gave me a broader understanding of the algorithm. "
   ]
  },
  {
   "cell_type": "markdown",
   "metadata": {},
   "source": [
    "# References\n",
    "\n",
    "Aima.cs.berkeley.edu. n.d. [online] Available at: <http://aima.cs.berkeley.edu/python/csp.py> [Accessed 2 January 2021].\n",
    "\n",
    "Docs.python.org. 2021. Abc — Abstract Base Classes — Python 3.9.1 Documentation. [online] Available at: <https://docs.python.org/3/library/abc.html> [Accessed 2 January 2021].\n",
    "\n",
    "Docs.python.org. 2021. Typing — Support For Type Hints — Python 3.9.1 Documentation. [online] Available at: <https://docs.python.org/3/library/typing.html> [Accessed 3 January 2021].\n",
    "\n",
    "Levengood, C., 2020. Generating And Solving Sudoku Puzzles With Python. [online] Lvngd.com. Available at: <https://lvngd.com/blog/generating-and-solving-sudoku-puzzles-python/> [Accessed 2 January 2021].\n",
    "\n",
    "Manning. 2019. Constraint-Satisfaction Problems In Python - Manning. [online] Available at: <https://freecontent.manning.com/constraint-satisfaction-problems-in-python/> [Accessed 3 January 2021].\n",
    "\n",
    "Shakib, V., 2015. Python Sudoku Reduce The Number Of For Loops. [online] Stack Overflow. Available at: <https://stackoverflow.com/questions/29001671/python-sudoku-reduce-the-number-of-for-loops> [Accessed 3 January 2021].\n",
    "\n",
    "\n",
    "\n",
    "\n",
    "\n"
   ]
  }
 ],
 "metadata": {
  "kernelspec": {
   "display_name": "Python 3",
   "language": "python",
   "name": "python3"
  },
  "language_info": {
   "codemirror_mode": {
    "name": "ipython",
    "version": 3
   },
   "file_extension": ".py",
   "mimetype": "text/x-python",
   "name": "python",
   "nbconvert_exporter": "python",
   "pygments_lexer": "ipython3",
   "version": "3.8.3"
  }
 },
 "nbformat": 4,
 "nbformat_minor": 4
}
